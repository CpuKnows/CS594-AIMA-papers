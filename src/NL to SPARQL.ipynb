{
 "cells": [
  {
   "cell_type": "markdown",
   "metadata": {},
   "source": [
    "https://s3-us-west-2.amazonaws.com/allennlp/models/srl-model-2017.09.05.tar.gz"
   ]
  },
  {
   "cell_type": "code",
   "execution_count": 65,
   "metadata": {},
   "outputs": [],
   "source": [
    "from nltk.corpus import verbnet, wordnet\n",
    "\n",
    "from allennlp.service.predictors import SemanticRoleLabelerPredictor\n",
    "from allennlp.models.archival import load_archive\n",
    "\n",
    "from SPARQLWrapper import SPARQLWrapper, JSON"
   ]
  },
  {
   "cell_type": "code",
   "execution_count": 179,
   "metadata": {},
   "outputs": [],
   "source": [
    "import spacy\n",
    "from spacy.tokens import Doc, Span, Token\n",
    "\n",
    "nlp = spacy.load('en')"
   ]
  },
  {
   "cell_type": "markdown",
   "metadata": {},
   "source": [
    "# Semantic role labeling"
   ]
  },
  {
   "cell_type": "code",
   "execution_count": 2,
   "metadata": {},
   "outputs": [
    {
     "name": "stderr",
     "output_type": "stream",
     "text": [
      "Did not use initialization regex that was passed: stacked_encoder\\\\\\\\._module.layer_0\\\\\\\\.input_linearity\\\\\\\\.weight\n",
      "Did not use initialization regex that was passed: stacked_encoder\\\\\\\\._module.layer_.*bias\n",
      "Did not use initialization regex that was passed: stacked_encoder\\\\\\\\._module\\\\\\\\.layer_0\\\\\\\\.state_linearity\\\\\\\\.weight\n"
     ]
    }
   ],
   "source": [
    "archive = load_archive('/home/drqa/Projects/nl-to-sparkle/srl-model-2017.09.05.tar.gz')\n",
    "predictor = SemanticRoleLabelerPredictor.from_archive(archive, \"semantic-role-labeling\")"
   ]
  },
  {
   "cell_type": "code",
   "execution_count": 180,
   "metadata": {},
   "outputs": [],
   "source": [
    "class SRLTagger(object):\n",
    "    name = 'SRLTagger'\n",
    "    \n",
    "    def __init__(self, vocab, srl_predictor):\n",
    "        self.vocab = vocab\n",
    "        self.srl_predictor = srl_predictor\n",
    "        \n",
    "        Token.set_extension('srl_tag', default='O')\n",
    "        #Span.set_extension('srl_tag', default='O')\n",
    "        \n",
    "    def __call__(self, doc):\n",
    "        predictions = self.srl_predictor.predict_json({'sentence': doc.text})\n",
    "        \n",
    "        if len(predictions['verbs']):\n",
    "            for i, token in enumerate(doc):\n",
    "                if token.text == predictions['tokens'][i]:\n",
    "                    token._.set('srl_tag', predictions['verbs'][0]['tags'][i])\n",
    "        return doc\n",
    "    \n",
    "srl_tagger = SRLTagger(nlp, predictor)\n",
    "nlp.add_pipe(srl_tagger, last=True)"
   ]
  },
  {
   "cell_type": "code",
   "execution_count": null,
   "metadata": {},
   "outputs": [],
   "source": [
    "doc = nlp('What cartel trades guns illegally?')"
   ]
  },
  {
   "cell_type": "code",
   "execution_count": 187,
   "metadata": {},
   "outputs": [
    {
     "name": "stdout",
     "output_type": "stream",
     "text": [
      "What\tO\n",
      "cartel\tB-ARG0\n",
      "trades\tB-V\n",
      "guns\tB-ARG1\n",
      "illegally\tB-ARGM-MNR\n",
      "?\tO\n"
     ]
    }
   ],
   "source": [
    "for token in doc:\n",
    "    print(token, token._.srl_tag, sep='\\t')"
   ]
  },
  {
   "cell_type": "code",
   "execution_count": 148,
   "metadata": {},
   "outputs": [
    {
     "data": {
      "text/plain": [
       "{'tokens': ['What', 'cartel', 'trades', 'guns', 'illegally', '?'],\n",
       " 'verbs': [{'description': 'What [ARG0: cartel] [V: trades] [ARG1: guns] [ARGM-MNR: illegally] ?',\n",
       "   'tags': ['O', 'B-ARG0', 'B-V', 'B-ARG1', 'B-ARGM-MNR', 'O'],\n",
       "   'verb': 'trades'}],\n",
       " 'words': ['What', 'cartel', 'trades', 'guns', 'illegally', '?']}"
      ]
     },
     "execution_count": 148,
     "metadata": {},
     "output_type": "execute_result"
    }
   ],
   "source": [
    "srl_output = predictor.predict_json({'sentence':'What cartel trades guns illegally?'})\n",
    "srl_output"
   ]
  },
  {
   "cell_type": "code",
   "execution_count": 38,
   "metadata": {},
   "outputs": [
    {
     "data": {
      "text/plain": [
       "{'tokens': ['What', 'is', 'the', 'capital', 'of', 'Bolivia', '?'],\n",
       " 'verbs': [{'description': '[ARG2: What] [V: is] [ARG1: the capital of Bolivia] ?',\n",
       "   'tags': ['B-ARG2', 'B-V', 'B-ARG1', 'I-ARG1', 'I-ARG1', 'I-ARG1', 'O'],\n",
       "   'verb': 'is'}],\n",
       " 'words': ['What', 'is', 'the', 'capital', 'of', 'Bolivia', '?']}"
      ]
     },
     "execution_count": 38,
     "metadata": {},
     "output_type": "execute_result"
    }
   ],
   "source": [
    "predictor.predict_json({'sentence':'What is the capital of Bolivia?'})"
   ]
  },
  {
   "cell_type": "code",
   "execution_count": 115,
   "metadata": {},
   "outputs": [
    {
     "data": {
      "text/plain": [
       "{'tokens': ['Who',\n",
       "  'is',\n",
       "  'the',\n",
       "  'author',\n",
       "  'of',\n",
       "  'A',\n",
       "  'Game',\n",
       "  'of',\n",
       "  'Thrones',\n",
       "  '?'],\n",
       " 'verbs': [{'description': '[ARG1: Who] [V: is] [ARG2: the author of A Game of Thrones] ?',\n",
       "   'tags': ['B-ARG1',\n",
       "    'B-V',\n",
       "    'B-ARG2',\n",
       "    'I-ARG2',\n",
       "    'I-ARG2',\n",
       "    'I-ARG2',\n",
       "    'I-ARG2',\n",
       "    'I-ARG2',\n",
       "    'I-ARG2',\n",
       "    'O'],\n",
       "   'verb': 'is'}],\n",
       " 'words': ['Who',\n",
       "  'is',\n",
       "  'the',\n",
       "  'author',\n",
       "  'of',\n",
       "  'A',\n",
       "  'Game',\n",
       "  'of',\n",
       "  'Thrones',\n",
       "  '?']}"
      ]
     },
     "execution_count": 115,
     "metadata": {},
     "output_type": "execute_result"
    }
   ],
   "source": [
    "predictor.predict_json({'sentence':'Who is the author of A Game of Thrones?'})"
   ]
  },
  {
   "cell_type": "markdown",
   "metadata": {},
   "source": [
    "# WordNet and VerbNet Corpus"
   ]
  },
  {
   "cell_type": "code",
   "execution_count": 147,
   "metadata": {},
   "outputs": [
    {
     "data": {
      "text/plain": [
       "Synset('trust.n.04')"
      ]
     },
     "execution_count": 147,
     "metadata": {},
     "output_type": "execute_result"
    }
   ],
   "source": [
    "asdf = wordnet.synsets('cartel')[0]\n",
    "asdf."
   ]
  },
  {
   "cell_type": "code",
   "execution_count": 109,
   "metadata": {},
   "outputs": [
    {
     "ename": "TypeError",
     "evalue": "Required argument 'key' (pos 1) not found",
     "output_type": "error",
     "traceback": [
      "\u001b[0;31m---------------------------------------------------------------------------\u001b[0m",
      "\u001b[0;31mTypeError\u001b[0m                                 Traceback (most recent call last)",
      "\u001b[0;32m<ipython-input-109-f5c18b98ba0b>\u001b[0m in \u001b[0;36m<module>\u001b[0;34m()\u001b[0m\n\u001b[1;32m      1\u001b[0m \u001b[0masdf\u001b[0m \u001b[0;34m=\u001b[0m \u001b[0mvnclass\u001b[0m\u001b[0;34m[\u001b[0m\u001b[0;36m0\u001b[0m\u001b[0;34m]\u001b[0m\u001b[0;34m[\u001b[0m\u001b[0;36m0\u001b[0m\u001b[0;34m]\u001b[0m\u001b[0;34m\u001b[0m\u001b[0m\n\u001b[0;32m----> 2\u001b[0;31m \u001b[0masdf\u001b[0m\u001b[0;34m.\u001b[0m\u001b[0mget\u001b[0m\u001b[0;34m(\u001b[0m\u001b[0;34m)\u001b[0m\u001b[0;34m\u001b[0m\u001b[0m\n\u001b[0m",
      "\u001b[0;31mTypeError\u001b[0m: Required argument 'key' (pos 1) not found"
     ]
    }
   ],
   "source": [
    "asdf = vnclass[0][0]\n",
    "asdf.get"
   ]
  },
  {
   "cell_type": "code",
   "execution_count": 116,
   "metadata": {},
   "outputs": [
    {
     "data": {
      "text/plain": [
       "['change%2:30:05',\n",
       " 'change%2:30:04',\n",
       " 'exchange%2:30:00',\n",
       " 'exchange%2:41:00',\n",
       " 'trade%2:40:00',\n",
       " 'trade%2:40:02']"
      ]
     },
     "execution_count": 116,
     "metadata": {},
     "output_type": "execute_result"
    }
   ],
   "source": [
    "verbnet.wordnetids(vnclass)"
   ]
  },
  {
   "cell_type": "code",
   "execution_count": 139,
   "metadata": {},
   "outputs": [
    {
     "data": {
      "text/plain": [
       "[('name', 'change'), ('wn', 'change%2:30:05 change%2:30:04')]"
      ]
     },
     "execution_count": 139,
     "metadata": {},
     "output_type": "execute_result"
    }
   ],
   "source": [
    "asdf = vnclass[0][0]\n",
    "asdf.items()"
   ]
  },
  {
   "cell_type": "code",
   "execution_count": 100,
   "metadata": {},
   "outputs": [
    {
     "name": "stdout",
     "output_type": "stream",
     "text": [
      "<Element 'MEMBER' at 0x7f4ca181a8b8>\n",
      "<Element 'MEMBER' at 0x7f4ca181ae58>\n",
      "<Element 'MEMBER' at 0x7f4ca181a138>\n",
      "<Element 'THEMROLE' at 0x7f4ca181a4a8>\n",
      "\t <Element 'SELRESTRS' at 0x7f4ca181ab88>\n",
      "<Element 'FRAME' at 0x7f4ca181ab38>\n",
      "\t <Element 'DESCRIPTION' at 0x7f4ca181af98>\n",
      "\t <Element 'EXAMPLES' at 0x7f4ca1da8278>\n",
      "\t <Element 'SYNTAX' at 0x7f4ca1da8a98>\n",
      "\t <Element 'SEMANTICS' at 0x7f4ca17e4598>\n",
      "<Element 'FRAME' at 0x7f4ca1809278>\n",
      "\t <Element 'DESCRIPTION' at 0x7f4ca1809d68>\n",
      "\t <Element 'EXAMPLES' at 0x7f4ca1809458>\n",
      "\t <Element 'SYNTAX' at 0x7f4ca18091d8>\n",
      "\t <Element 'SEMANTICS' at 0x7f4ca1809868>\n",
      "<Element 'VNSUBCLASS' at 0x7f4ca1813868>\n",
      "\t <Element 'MEMBERS' at 0x7f4ca1813548>\n",
      "\t <Element 'THEMROLES' at 0x7f4ca1813ae8>\n",
      "\t <Element 'FRAMES' at 0x7f4ca18138b8>\n",
      "\t <Element 'SUBCLASSES' at 0x7f4ca17f5c78>\n"
     ]
    },
    {
     "data": {
      "text/plain": [
       "'exchange-13.6-1\\n  Subclasses: exchange-13.6-1-1\\n  Members: change exchange trade\\n  Thematic roles:\\n    * Location[+location -region]\\n  Frames:\\n    NP-PP (with-PP)\\n      Example: One bell can swap places with another.\\n      Syntax: NP[Theme1] VERB NP[Location] PREP[with] NP[Theme2]\\n      Semantics:\\n        * location(start(E), Theme1, Location_i)\\n        * location(end(E), Theme1, Location_j)\\n        * location(start(E), Theme2, Location_j)\\n        * location(end(E), Theme2, Location_i)\\n    Transitive (Location Object)\\n      Example: The bells traded places.\\n      Syntax: NP[Theme +plural] VERB NP[Location]\\n      Semantics:\\n        * location(start(E), Theme_i, Location_i)\\n        * location(end(E), Theme_i, Location_j)\\n        * location(start(E), Theme_j, Location_j)\\n        * location(end(E), Theme_j, Location_i)'"
      ]
     },
     "execution_count": 100,
     "metadata": {},
     "output_type": "execute_result"
    }
   ],
   "source": [
    "vnclass = verbnet.vnclass(verbnet.classids('trade')[0])\n",
    "for i in vnclass:\n",
    "    for j in i:\n",
    "        print(j)\n",
    "        for k in j:\n",
    "            print('\\t', k)\n",
    "verbnet.pprint(vnclass)"
   ]
  },
  {
   "cell_type": "markdown",
   "metadata": {},
   "source": [
    "# Answer Type Prediction"
   ]
  },
  {
   "cell_type": "code",
   "execution_count": null,
   "metadata": {},
   "outputs": [],
   "source": [
    "if answer_type == 'HUMAN:group':\n",
    "    "
   ]
  },
  {
   "cell_type": "markdown",
   "metadata": {},
   "source": [
    "# SPARQL Query"
   ]
  },
  {
   "cell_type": "code",
   "execution_count": 6,
   "metadata": {},
   "outputs": [],
   "source": [
    "sparql = SPARQLWrapper('http://dbpedia.org/sparql')"
   ]
  },
  {
   "cell_type": "code",
   "execution_count": 29,
   "metadata": {},
   "outputs": [],
   "source": [
    "# PREFIX dbres: <http://dbpedia.org/resource/>\n",
    "\n",
    "prefix = \"\"\"\n",
    "    PREFIX owl: <http://www.w3.org/2002/07/owl#>\n",
    "    PREFIX rdfs: <http://www.w3.org/2000/01/rdf-schema#>\n",
    "    PREFIX rdf: <http://www.w3.org/1999/02/22-rdf-syntax-ns#>\n",
    "    PREFIX foaf: <http://xmlns.com/foaf/0.1/>\n",
    "    PREFIX skos: <http://www.w3.org/2004/02/skos/core#>\n",
    "    PREFIX quepy: <http://www.machinalis.com/quepy#>\n",
    "    PREFIX dbpedia: <http://dbpedia.org/ontology/>\n",
    "    PREFIX dbpprop: <http://dbpedia.org/property/>\n",
    "    PREFIX dbpedia-owl: <http://dbpedia.org/ontology/>\n",
    "\"\"\""
   ]
  },
  {
   "cell_type": "code",
   "execution_count": 48,
   "metadata": {},
   "outputs": [],
   "source": [
    "query = prefix + \"\"\"\n",
    "    SELECT DISTINCT ?x2 WHERE {\n",
    "      ?x0 rdf:type dbpedia-owl:Country.\n",
    "      ?x0 rdfs:label \"Bolivia\"@en.\n",
    "      ?x0 dbpedia-owl:capital ?x1.\n",
    "      ?x1 rdfs:label ?x2.\n",
    "    }\n",
    "\"\"\"\n",
    "\n",
    "sparql.setQuery(query)\n",
    "sparql.setReturnFormat(JSON)\n",
    "answer = sparql.query().convert()"
   ]
  },
  {
   "cell_type": "code",
   "execution_count": 50,
   "metadata": {},
   "outputs": [
    {
     "name": "stdout",
     "output_type": "stream",
     "text": [
      "Sucre\n"
     ]
    }
   ],
   "source": [
    "if len(answer['results']['bindings']) != 0:\n",
    "    for ans in answer['results']['bindings']:\n",
    "        if ans['x2']['xml:lang'] == 'en':\n",
    "            print(ans['x2']['value'])\n",
    "else:\n",
    "    print('No results returned')"
   ]
  },
  {
   "cell_type": "code",
   "execution_count": 32,
   "metadata": {},
   "outputs": [],
   "source": [
    "# PREFIX dbres: <http://dbpedia.org/resource/>\n",
    "\n",
    "query = prefix + \"\"\"\n",
    "    SELECT DISTINCT * WHERE {\n",
    "      ?url foaf:isPrimaryTopicOf wikipedia-en:asdfasdf.\n",
    "    }\n",
    "\"\"\"\n",
    "\n",
    "sparql.setQuery(query)\n",
    "sparql.setReturnFormat(JSON)\n",
    "answer = sparql.query().convert()"
   ]
  }
 ],
 "metadata": {
  "kernelspec": {
   "display_name": "Python [conda env:nlsparkle]",
   "language": "python",
   "name": "conda-env-nlsparkle-py"
  },
  "language_info": {
   "codemirror_mode": {
    "name": "ipython",
    "version": 3
   },
   "file_extension": ".py",
   "mimetype": "text/x-python",
   "name": "python",
   "nbconvert_exporter": "python",
   "pygments_lexer": "ipython3",
   "version": "3.6.4"
  }
 },
 "nbformat": 4,
 "nbformat_minor": 2
}
